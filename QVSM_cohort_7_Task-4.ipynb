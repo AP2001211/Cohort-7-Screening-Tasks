{
  "nbformat": 4,
  "nbformat_minor": 0,
  "metadata": {
    "colab": {
      "provenance": [],
      "authorship_tag": "ABX9TyPzBZFr/Kd3pG0/ZNWCLaJn",
      "include_colab_link": true
    },
    "kernelspec": {
      "name": "python3",
      "display_name": "Python 3"
    },
    "language_info": {
      "name": "python"
    }
  },
  "cells": [
    {
      "cell_type": "markdown",
      "metadata": {
        "id": "view-in-github",
        "colab_type": "text"
      },
      "source": [
        "<a href=\"https://colab.research.google.com/github/AP2001211/Cohort-7-Screening-Tasks/blob/main/QVSM_cohort_7_Task-4.ipynb\" target=\"_parent\"><img src=\"https://colab.research.google.com/assets/colab-badge.svg\" alt=\"Open In Colab\"/></a>"
      ]
    },
    {
      "cell_type": "markdown",
      "source": [
        "This function takes three parameters: num_qubits, depth, and basis_gates. It creates a quantum register with the specified number of qubits and a quantum circuit with that register. \n",
        "\n",
        "Then, for each depth, it randomly picks a gate from the basis_gates list and applies it to a randomly selected qubit.\n",
        "\n",
        "Finally, it returns the generated quantum circuit."
      ],
      "metadata": {
        "id": "3vF39YOgg_fF"
      }
    },
    {
      "cell_type": "code",
      "source": [
        "from qiskit import QuantumCircuit, QuantumRegister\n",
        "from qiskit.circuit.library import *\n",
        "import random2 as random\n",
        "def random_circuit(num_qubits, depth, basis_gates):\n",
        "    qr = QuantumRegister(num_qubits, 'q')\n",
        "    qc = QuantumCircuit(qr)\n",
        "    \n",
        "    for d in range(depth):\n",
        "        for q in range(num_qubits):\n",
        "            # randomly pick a gate from the basis_gates list\n",
        "            gate = basis_gates[random.randint(0, len(basis_gates)-1)]\n",
        "            if gate.num_qubits == 1:\n",
        "                qc.append(gate, [qr[q]])\n",
        "            elif gate.num_qubits == 2:\n",
        "                # randomly pick another qubit for 2-qubit gates\n",
        "                q2 = (q + random.randint(1, num_qubits-1)) % num_qubits\n",
        "                qc.append(gate, [qr[q], qr[q2]])\n",
        "                \n",
        "    return qc"
      ],
      "metadata": {
        "id": "NbS6wQ85h6W6"
      },
      "execution_count": 41,
      "outputs": []
    },
    {
      "cell_type": "code",
      "source": [
        "qc = random_circuit(6, 2, [HGate(), CXGate()])\n",
        "print(qc)"
      ],
      "metadata": {
        "colab": {
          "base_uri": "https://localhost:8080/"
        },
        "id": "LkHlsWvWu1_e",
        "outputId": "3bbac355-b6c3-4556-d92a-28a3b2b58eec"
      },
      "execution_count": 43,
      "outputs": [
        {
          "output_type": "stream",
          "name": "stdout",
          "text": [
            "     ┌───┐     ┌───┐┌───┐          \n",
            "q_0: ┤ H ├─────┤ X ├┤ H ├──────────\n",
            "     ├───┤┌───┐└─┬─┘└───┘┌───┐     \n",
            "q_1: ┤ H ├┤ H ├──┼───────┤ X ├─────\n",
            "     └───┘└───┘  │       └─┬─┘     \n",
            "q_2: ──■─────────┼────■────┼───────\n",
            "       │  ┌───┐  │    │    │       \n",
            "q_3: ──┼──┤ H ├──┼────┼────■───────\n",
            "       │  └───┘  │  ┌─┴─┐          \n",
            "q_4: ──┼─────────■──┤ X ├──■───────\n",
            "     ┌─┴─┐┌───┐     └───┘┌─┴─┐┌───┐\n",
            "q_5: ┤ X ├┤ H ├──────────┤ X ├┤ H ├\n",
            "     └───┘└───┘          └───┘└───┘\n"
          ]
        }
      ]
    },
    {
      "cell_type": "code",
      "source": [],
      "metadata": {
        "id": "vWHBTjyLw42s"
      },
      "execution_count": null,
      "outputs": []
    }
  ]
}